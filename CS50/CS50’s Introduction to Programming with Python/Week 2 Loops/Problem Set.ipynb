{
 "cells": [
  {
   "cell_type": "markdown",
   "metadata": {},
   "source": [
    "# Conditionals\n"
   ]
  },
  {
   "cell_type": "markdown",
   "metadata": {},
   "source": [
    "## 1. cameCase"
   ]
  },
  {
   "cell_type": "markdown",
   "metadata": {},
   "source": [
    ".\n"
   ]
  },
  {
   "cell_type": "code",
   "execution_count": 26,
   "metadata": {},
   "outputs": [
    {
     "name": "stdout",
     "output_type": "stream",
     "text": [
      "preferred_first_name\n"
     ]
    }
   ],
   "source": [
    "def main():\n",
    "    input_string=input(\"camelCase:\")\n",
    "    for c in input_string:\n",
    "        if c.isupper():\n",
    "            input_string=input_string.replace(c,change(c)) \n",
    "        \n",
    "    print(input_string)\n",
    "     \n",
    "\n",
    "def change(input_replace):\n",
    "    input_replace=input_replace.lower()\n",
    "    input_replace=\"_\"+input_replace\n",
    "    return input_replace\n",
    "    \n",
    "\n",
    "if __name__ == \"__main__\":\n",
    "    main()"
   ]
  },
  {
   "cell_type": "markdown",
   "metadata": {},
   "source": [
    "## 2.Coke Machine"
   ]
  },
  {
   "cell_type": "markdown",
   "metadata": {},
   "source": [
    "."
   ]
  },
  {
   "cell_type": "code",
   "execution_count": 10,
   "metadata": {},
   "outputs": [
    {
     "name": "stdout",
     "output_type": "stream",
     "text": [
      "Amount Due: 25\n",
      "Change Owed: 0\n"
     ]
    }
   ],
   "source": [
    "def main():\n",
    "    price=50\n",
    "    \n",
    "    while True:\n",
    "        amount=int(input(\"Insert Coin:\"))\n",
    "        if amount in [5,10,25]:\n",
    "            price=price-amount\n",
    "            if price>0:\n",
    "                print(\"Amount Due:\",price)\n",
    "            \n",
    "            elif price<0:\n",
    "                print(\"Change Owed:\",abs(price))\n",
    "            \n",
    "                break\n",
    "            elif price==0:\n",
    "                print(\"Change Owed:\",0) \n",
    "                break\n",
    "        elif amount>=50:\n",
    "            \n",
    "            print(\"Change Owed:\",amount-price)    \n",
    "            break\n",
    "        else:\n",
    "            print(\"Amount Due:\",price)\n",
    "        \n",
    "\n",
    "if __name__==\"__main__\":\n",
    "    main()"
   ]
  },
  {
   "cell_type": "markdown",
   "metadata": {},
   "source": [
    "## 3.Just setting up my twttr\n"
   ]
  },
  {
   "cell_type": "code",
   "execution_count": 14,
   "metadata": {},
   "outputs": [
    {
     "name": "stdout",
     "output_type": "stream",
     "text": [
      "CS50\n"
     ]
    }
   ],
   "source": [
    "def main():\n",
    "    input_string=input(\"Input: \")\n",
    "    output_string=\"\"\n",
    "    for c in input_string:\n",
    "        if c in [\"a\",\"e\",\"i\",\"o\",\"u\",\"A\",\"E\",\"I\",\"O\",\"U\"]:\n",
    "            continue\n",
    "        else:\n",
    "            output_string=output_string+c \n",
    "        \n",
    "    print(output_string)\n",
    "     \n",
    "\n",
    "\n",
    "    \n",
    "\n",
    "if __name__ == \"__main__\":\n",
    "    main()"
   ]
  },
  {
   "cell_type": "markdown",
   "metadata": {},
   "source": [
    "## 4.Vanity Plates"
   ]
  },
  {
   "cell_type": "markdown",
   "metadata": {},
   "source": [
    "Much like a list, a str is a “sequence” (of characters), which means it can be “sliced” into shorter strings with syntax like s[i:j]. For instance, if s is \"CS50\", then s[0:2] would be \"CS\"."
   ]
  },
  {
   "cell_type": "code",
   "execution_count": 20,
   "metadata": {},
   "outputs": [
    {
     "name": "stdout",
     "output_type": "stream",
     "text": [
      "Valid\n"
     ]
    }
   ],
   "source": [
    "def main():\n",
    "    plate = input(\"Plate: \")\n",
    "    if is_valid(plate):\n",
    "        print(\"Valid\")\n",
    "    else:\n",
    "        print(\"Invalid\")\n",
    "\n",
    "\n",
    "def is_valid(s):\n",
    "    if 6>=len(s)>=2:\n",
    "        if s.isalnum() and s[0:2].isalpha():\n",
    "            \n",
    "            for ch in s:\n",
    "                if ch.isdigit():\n",
    "                    ind=s.index(ch)\n",
    "                    if int(ch)!=0:\n",
    "                        if s[ind:].isdigit():\n",
    "                            return True\n",
    "                        else:\n",
    "                            return False\n",
    "                    else:\n",
    "                        return False\n",
    "            else:\n",
    "                return True    \n",
    "        else:\n",
    "            return False\n",
    "    else:\n",
    "        return False    \n",
    "\n",
    "main()"
   ]
  },
  {
   "cell_type": "markdown",
   "metadata": {},
   "source": [
    "## 5.Nutrition Facts"
   ]
  },
  {
   "cell_type": "code",
   "execution_count": 26,
   "metadata": {},
   "outputs": [],
   "source": [
    "fruit=input(\"Item: \").title()\n",
    "fruits={\"Apple\":130,\n",
    "        \"Avocado\":50,\n",
    "        \"Banana\":110,\n",
    "        \"Cantaloupe\":50,\n",
    "        \"Grapefruit\":60,\n",
    "        \"Grapes\":90,\n",
    "        \"Honeydew Melon\":50,\n",
    "        \"Kiwifruit\":90,\n",
    "        \"Lemon\":15,\n",
    "        \"Lime\":20,\n",
    "        \"Nectarine\":60,\n",
    "        \"Orange\":80,\n",
    "        \"Peach\":60,\n",
    "        \"Pear\":100,\n",
    "        \"Pineapple\":50,\n",
    "        \"Plums\":70,\n",
    "        \"Strawberries\":50,\n",
    "        \"Sweet Cherries\":100,\n",
    "        \"Tangerine\":50,\n",
    "        \"Watermelon\":80}\n",
    "\n",
    "if fruit in fruits:\n",
    "    print(f\"Calories: {fruits[fruit]}\")\n"
   ]
  }
 ],
 "metadata": {
  "kernelspec": {
   "display_name": "Python 3.10.1 64-bit",
   "language": "python",
   "name": "python3"
  },
  "language_info": {
   "codemirror_mode": {
    "name": "ipython",
    "version": 3
   },
   "file_extension": ".py",
   "mimetype": "text/x-python",
   "name": "python",
   "nbconvert_exporter": "python",
   "pygments_lexer": "ipython3",
   "version": "3.10.1"
  },
  "orig_nbformat": 4,
  "vscode": {
   "interpreter": {
    "hash": "26de051ba29f2982a8de78e945f0abaf191376122a1563185a90213a26c5da77"
   }
  }
 },
 "nbformat": 4,
 "nbformat_minor": 2
}
