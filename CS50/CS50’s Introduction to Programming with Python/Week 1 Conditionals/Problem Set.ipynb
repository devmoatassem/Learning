{
 "cells": [
  {
   "cell_type": "markdown",
   "metadata": {},
   "source": [
    "# Conditionals\n"
   ]
  },
  {
   "cell_type": "markdown",
   "metadata": {},
   "source": [
    "## 1. Deep Thought"
   ]
  },
  {
   "cell_type": "markdown",
   "metadata": {},
   "source": [
    "In deep.py, implement a program that prompts the user for the answer to the Great Question of Life, the Universe and Everything, outputting Yes if the user inputs 42 or (case-insensitively) forty-two or forty two. Otherwise output No."
   ]
  },
  {
   "cell_type": "code",
   "execution_count": 3,
   "metadata": {},
   "outputs": [
    {
     "name": "stdout",
     "output_type": "stream",
     "text": [
      "Yes\n"
     ]
    }
   ],
   "source": [
    "xy=input(\"What is the answer to the Great Question of Life, the Universe and Everything?\").casefold()\n",
    "\n",
    "xy=xy.strip()\n",
    "\n",
    "match xy:\n",
    "    case \"42\" | \"forty-two\" | \"forty two\":\n",
    "        print(\"Yes\")\n",
    "    case _:\n",
    "        print(\"No\")"
   ]
  },
  {
   "cell_type": "markdown",
   "metadata": {},
   "source": [
    "## 2.Home Federal Savings Bank"
   ]
  },
  {
   "cell_type": "markdown",
   "metadata": {},
   "source": [
    "In season 7, episode 24 of Seinfeld, Kramer visits a bank that promises to give $100 to anyone who isn’t filenameed with a “hello.” Kramer is instead filenameed with a “hey,” which he insists isn’t a “hello,” and so he asks for $100. The bank’s manager proposes a compromise: “You got a filenameing that starts with an ‘h,’ how does $20 sound?” Kramer accepts.\n",
    "\n",
    "In a file called bank.py, implement a program that prompts the user for a filenameing. If the filenameing starts with “hello”, output $0. If the filenameing starts with an “h” (but not “hello”), output $20. Otherwise, output $100. Ignore any leading whitespace in the user’s filenameing, and treat the user’s filenameing case-insensitively."
   ]
  },
  {
   "cell_type": "code",
   "execution_count": 7,
   "metadata": {},
   "outputs": [
    {
     "name": "stdout",
     "output_type": "stream",
     "text": [
      "$100\n"
     ]
    }
   ],
   "source": [
    "greet=input(\"What's your greet?\").casefold().strip()\n",
    "\n",
    "\n",
    "if greet.startswith(\"hello\"):\n",
    "    print(\"$0\")\n",
    "elif greet.startswith(\"h\"):\n",
    "    print(\"$20\")\n",
    "else:\n",
    "    print(\"$100\")"
   ]
  },
  {
   "cell_type": "markdown",
   "metadata": {},
   "source": [
    "## 3.File Extensions\n"
   ]
  },
  {
   "cell_type": "markdown",
   "metadata": {},
   "source": [
    "Even though Windows and macOS sometimes hide them, most files have file extensions, a suffix that starts with a period (.) at the end of their name. For instance, file names for GIFs end with .gif, and file names for JPEGs end with .jpg or .jpeg. When you double-click on a file to open it, your computer uses its file extension to determine which program to launch.\n",
    "\n",
    "Web browsers, by contrast, rely on media types, formerly known as MIME types, to determine how to display files that live on the web. When you download a file from a web server, that server sends an HTTP header, along with the file itself, indicating the file’s media type. For instance, the media type for a GIF is image/gif, and the media type for a JPEG is image/jpeg. To determine the media type for a file, a web server typically looks at the file’s extension, mapping one to the other.\n",
    "\n",
    "See developer.mozilla.org/en-US/docs/Web/HTTP/Basics_of_HTTP/MIME_types/Common_types for common types.\n",
    "\n",
    "In a file called extensions.py, implement a program that prompts the user for the name of a file and then outputs that file’s media type if the file’s name ends, case-insensitively, in any of these suffixes:\n"
   ]
  },
  {
   "cell_type": "code",
   "execution_count": 11,
   "metadata": {},
   "outputs": [
    {
     "name": "stdout",
     "output_type": "stream",
     "text": [
      "image/jpeg\n"
     ]
    }
   ],
   "source": [
    "filename=input(\"File name:\").casefold().strip()\n",
    "\n",
    "if filename.endswith(\".gif\"):\n",
    "    print(\"image/gif\")\n",
    "elif filename.endswith(\".jpeg\") or filename.endswith(\".jpg\"):\n",
    "    print(\"image/jpeg\")\n",
    "elif filename.endswith(\".png\"):\n",
    "    print(\"image/png\")\n",
    "elif filename.endswith(\".pdf\"):\n",
    "    print(\"application/pdf\")\n",
    "elif filename.endswith(\".txt\"):\n",
    "    print(\"text/plain\")\n",
    "elif filename.endswith(\".zip\"):\n",
    "    print(\"application/zip\")\n",
    "else:\n",
    "    print(\"application/octet-stream\")"
   ]
  },
  {
   "cell_type": "markdown",
   "metadata": {},
   "source": [
    "## 4.Math Interpreter"
   ]
  },
  {
   "cell_type": "markdown",
   "metadata": {},
   "source": [
    "Python already supports math, whereby you can write code to add, subtract, multiply, or divide values and even variables. But let’s write a program that enables users to do math, even without knowing Python.\n",
    "\n",
    "In a file called interpreter.py, implement a program that prompts the user for an arithmetic expression and then calculates and outputs the result as a floating-point value formatted to one decimal place. Assume that the user’s input will be formatted as x y z, with one space between x and y and one space between y and z, wherein:\n",
    "\n",
    "x is an integer\n",
    "y is +, -, *, or /\n",
    "z is an integer\n",
    "For instance, if the user inputs 1 + 1, your program should output 2.0. Assume that, if y is /, then z will not be 0.\n",
    "\n",
    "Note that, just as python itself is an interpreter for Python, so will your interpreter.py be an interpreter for math!"
   ]
  },
  {
   "cell_type": "markdown",
   "metadata": {},
   "source": [
    "Recall that a str comes with quite a few methods, per docs.python.org/3/library/stdtypes.html#string-methods, including split, which separates a str into a sequence of values, all of which can be assigned to variables at once. For instance, if expression is a str like 1 + 1, then\n",
    "\n",
    "x, y, z = expression.split(\" \")\n",
    "will assign 1 to x, + to y, and 1 to z."
   ]
  },
  {
   "cell_type": "code",
   "execution_count": 10,
   "metadata": {},
   "outputs": [
    {
     "name": "stdout",
     "output_type": "stream",
     "text": [
      "10.0\n"
     ]
    }
   ],
   "source": [
    "a=input(\"Enter the expression\")\n",
    "x,y,z=a.split()\n",
    "x=float(x)\n",
    "z=float(z)\n",
    "if y==\"+\":\n",
    "    print(x+z)\n",
    "elif y==\"-\":\n",
    "    print(x-z)\n",
    "elif y==\"*\":\n",
    "    print(x*z)\n",
    "else :\n",
    "    print(x/z)"
   ]
  },
  {
   "cell_type": "markdown",
   "metadata": {},
   "source": [
    "## 5.Meal Time"
   ]
  },
  {
   "cell_type": "markdown",
   "metadata": {},
   "source": [
    "Suppose that you’re in a country where it’s customary to eat breakfast between 7:00 and 8:00, lunch between 12:00 and 13:00, and dinner between 18:00 and 19:00. Wouldn’t it be nice if you had a program that could tell you what to eat when?\n",
    "\n",
    "In meal.py, implement a program that prompts the user for a time and outputs whether it’s breakfast time, lunch time, or dinner time. If it’s not time for a meal, don’t output anything at all. Assume that the user’s input will be formatted in 24-hour time as #:## or ##:##. And assume that each meal’s time range is inclusive. For instance, whether it’s 7:00, 7:01, 7:59, or 8:00, or anytime in between, it’s time for breakfast.\n",
    "\n",
    "Structure your program per the below, wherein convert is a function (that can be called by main) that converts time, a str in 24-hour format, to the corresponding number of hours as a float. For instance, given a time like \"7:30\" (i.e., 7 hours and 30 minutes), convert should return 7.5 (i.e., 7.5 hours)."
   ]
  },
  {
   "cell_type": "code",
   "execution_count": 19,
   "metadata": {},
   "outputs": [
    {
     "name": "stdout",
     "output_type": "stream",
     "text": [
      "\n"
     ]
    }
   ],
   "source": [
    "def main():\n",
    "    time=input(\"What time is it?\").casefold()\n",
    "    \n",
    "    time=convert(time)\n",
    "    if 7.0<=time<=8.0:\n",
    "        print(\"breakfast time\")\n",
    "    elif 12.0<=time<=13.0:\n",
    "        print(\"lunch time\")\n",
    "    elif 18.0<=time<=19.0:\n",
    "        print(\"dinner time\")\n",
    "    else:\n",
    "        print()\n",
    "\n",
    "\n",
    "\n",
    "def convert(time):\n",
    "    h,m=time.split(\":\")\n",
    "    h=float(h)\n",
    "    m=float(m)/60\n",
    "\n",
    "    return h+m    \n",
    "\n",
    "\n",
    "if __name__ == \"__main__\":\n",
    "    \n",
    "    main()"
   ]
  },
  {
   "cell_type": "markdown",
   "metadata": {},
   "source": [
    "if __name__ == \"__main__\":"
   ]
  },
  {
   "cell_type": "markdown",
   "metadata": {},
   "source": [
    "It Allows You to Execute Code When the File Runs as a Script, but Not When It’s Imported as a Module\n",
    "\n",
    "Script: When run as a script, your code prompts the user for input, calls echo(), and prints the result.\n",
    "Module: When you import echo as a module, then echo() gets defined, but no code executes. You provide echo() to the main code session without any side effects.\n"
   ]
  }
 ],
 "metadata": {
  "kernelspec": {
   "display_name": "Python 3.10.1 64-bit",
   "language": "python",
   "name": "python3"
  },
  "language_info": {
   "codemirror_mode": {
    "name": "ipython",
    "version": 3
   },
   "file_extension": ".py",
   "mimetype": "text/x-python",
   "name": "python",
   "nbconvert_exporter": "python",
   "pygments_lexer": "ipython3",
   "version": "3.10.1"
  },
  "orig_nbformat": 4,
  "vscode": {
   "interpreter": {
    "hash": "26de051ba29f2982a8de78e945f0abaf191376122a1563185a90213a26c5da77"
   }
  }
 },
 "nbformat": 4,
 "nbformat_minor": 2
}
