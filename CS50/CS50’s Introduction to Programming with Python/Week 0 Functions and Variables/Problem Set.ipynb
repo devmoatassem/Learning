{
 "cells": [
  {
   "cell_type": "markdown",
   "metadata": {},
   "source": [
    "# Functions, Variables\n"
   ]
  },
  {
   "cell_type": "markdown",
   "metadata": {},
   "source": [
    "## 1. Indoor Voice"
   ]
  },
  {
   "cell_type": "markdown",
   "metadata": {},
   "source": [
    "WRITING IN ALL CAPS IS LIKE YELLING.\n",
    "\n",
    "Best to use your “indoor voice” sometimes, writing entirely in lowercase.\n",
    "\n",
    "In a file called `indoor.py`, implement a program in Python that prompts the user for input and then outputs that same input in lowercase. Punctuation and whitespace should be outputted unchanged. You’re welcome, but not required, to prompt the user explicitly, as by passing a `str` of your own as an argument to `input`."
   ]
  },
  {
   "cell_type": "markdown",
   "metadata": {},
   "source": [
    "Hints\n",
    "Recall that input returns a `str`, per `docs.python.org/3/library/functions.html#input`.\n",
    "Recall that a str comes with quite a few methods, per `docs.python.org/3/library/stdtypes.html#string-methods`."
   ]
  },
  {
   "cell_type": "code",
   "execution_count": null,
   "metadata": {},
   "outputs": [
    {
     "name": "stdout",
     "output_type": "stream",
     "text": [
      "Hello Moatassem\n"
     ]
    }
   ],
   "source": [
    "\n",
    "word = input(\"Type your Input: \")\n",
    "\n",
    "\n",
    "word = word.lower()\n",
    "\n",
    "\n",
    "print(f\"{word}\")"
   ]
  },
  {
   "cell_type": "markdown",
   "metadata": {},
   "source": [
    "## 2.Playback Speed"
   ]
  },
  {
   "cell_type": "markdown",
   "metadata": {},
   "source": [
    "Some people have a habit of lecturing speaking rather quickly, and it’d be nice to slow them down, a la YouTube’s 0.75 playback speed, or even by having them pause between words.\n",
    "\n",
    "In a file called `playback.py`, implement a program in Python that prompts the user for input and then outputs that same input, replacing each space with `...` (i.e., three periods)."
   ]
  },
  {
   "cell_type": "code",
   "execution_count": 1,
   "metadata": {},
   "outputs": [
    {
     "name": "stdout",
     "output_type": "stream",
     "text": [
      "hbyb...upgghi\n"
     ]
    }
   ],
   "source": [
    "\n",
    "word = input(\"Type your Input: \")\n",
    "\n",
    "\n",
    "word = word.replace(\" \",\"...\")\n",
    "\n",
    "\n",
    "print(f\"{word}\")"
   ]
  },
  {
   "cell_type": "markdown",
   "metadata": {},
   "source": [
    "## 3.Making Faces\n"
   ]
  },
  {
   "cell_type": "markdown",
   "metadata": {},
   "source": [
    "Before there were emoji, there were emoticons, whereby text like :) was a happy face and text like :( was a sad face. Nowadays, programs tend to convert emoticons to emoji automatically!\n",
    "\n",
    "In a file called faces.py, implement a function called convert that accepts a str as input and returns that same input with any :) converted to 🙂 (otherwise known as a slightly smiling face) and any :( converted to 🙁 (otherwise known as a slightly frowning face). All other text should be returned unchanged.\n",
    "\n",
    "Then, in that same file, implement a function called main that prompts the user for input, calls convert on that input, and prints the result. You’re welcome, but not required, to prompt the user explicitly, as by passing a str of your own as an argument to input. Be sure to call main at the bottom of your file.\n"
   ]
  },
  {
   "cell_type": "code",
   "execution_count": 5,
   "metadata": {},
   "outputs": [
    {
     "name": "stdout",
     "output_type": "stream",
     "text": [
      "Hello 🙂 Goodbye 🙁\n"
     ]
    }
   ],
   "source": [
    "def convert(input):\n",
    "    input=input.replace(\":)\",\"🙂\")\n",
    "    input=input.replace(\":(\",\"🙁\")\n",
    "    return input\n",
    "\n",
    "def main():\n",
    "    x=input(\">>\")\n",
    "    print(convert(x))    \n",
    "main()"
   ]
  },
  {
   "cell_type": "markdown",
   "metadata": {},
   "source": [
    "## 4.Einstein"
   ]
  },
  {
   "cell_type": "markdown",
   "metadata": {},
   "source": [
    "Even if you haven’t studied physics (recently or ever!), you might have heard that E=mc2, wherein E represents energy (measured in Joules),  represents mass (measured in kilograms), and  represents the speed of light (measured approximately as 300000000 meters per second), per Albert Einstein et al. Essentially, the formula means that mass and energy are equivalent.\n",
    "\n",
    "In a file called einstein.py, implement a program in Python that prompts the user for mass as an integer (in kilograms) and then outputs the equivalent number of Joules as an integer. Assume that the user will input an integer."
   ]
  },
  {
   "cell_type": "code",
   "execution_count": 11,
   "metadata": {},
   "outputs": [
    {
     "name": "stdout",
     "output_type": "stream",
     "text": [
      "1260000000000000000\n"
     ]
    }
   ],
   "source": [
    "c=300000000\n",
    "m=int(input(\"Enter the mass in kilograms:\"))\n",
    "print(m*c**2)\n",
    "\n"
   ]
  },
  {
   "cell_type": "markdown",
   "metadata": {},
   "source": [
    "## 5.Tip Calculator"
   ]
  },
  {
   "cell_type": "markdown",
   "metadata": {},
   "source": [
    "dollars_to_float, which should accept a str as input  remove the leading $, and return the amount as a float. For instance, given $50.00 as input, it should return 50.0.\n",
    "percent_to_float, which should accept a str as input (formatted as ##%, wherein each # is a decimal digit), remove the trailing %, and return the percentage as a float. For instance, given 15% as input, it should return 0.15."
   ]
  },
  {
   "cell_type": "code",
   "execution_count": 18,
   "metadata": {},
   "outputs": [
    {
     "name": "stdout",
     "output_type": "stream",
     "text": [
      "Leave $7.50\n"
     ]
    }
   ],
   "source": [
    "def main():\n",
    "    dollars = dollars_to_float(input(\"How much was the meal? \"))\n",
    "    percent = percent_to_float(input(\"What percentage would you like to tip? \"))\n",
    "    tip = dollars * percent\n",
    "    print(f\"Leave ${tip:.2f}\")\n",
    "\n",
    "\n",
    "def dollars_to_float(d):\n",
    "    d=d.removeprefix(\"$\")\n",
    "    d=float(d)\n",
    "    return d\n",
    "\n",
    "\n",
    "def percent_to_float(p):\n",
    "    p=p.removesuffix(\"%\")\n",
    "    p=float(p)\n",
    "    return p/100\n",
    "\n",
    "\n",
    "main()"
   ]
  },
  {
   "cell_type": "code",
   "execution_count": 16,
   "metadata": {},
   "outputs": [
    {
     "name": "stdout",
     "output_type": "stream",
     "text": [
      "70\n"
     ]
    }
   ],
   "source": [
    "##Test\n",
    "s=\"$70\"\n",
    "s=s.removeprefix(\"$\")\n",
    "print(s)"
   ]
  }
 ],
 "metadata": {
  "kernelspec": {
   "display_name": "Python 3.10.1 64-bit",
   "language": "python",
   "name": "python3"
  },
  "language_info": {
   "codemirror_mode": {
    "name": "ipython",
    "version": 3
   },
   "file_extension": ".py",
   "mimetype": "text/x-python",
   "name": "python",
   "nbconvert_exporter": "python",
   "pygments_lexer": "ipython3",
   "version": "3.10.1"
  },
  "orig_nbformat": 4,
  "vscode": {
   "interpreter": {
    "hash": "26de051ba29f2982a8de78e945f0abaf191376122a1563185a90213a26c5da77"
   }
  }
 },
 "nbformat": 4,
 "nbformat_minor": 2
}
